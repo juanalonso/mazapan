{
  "nbformat": 4,
  "nbformat_minor": 0,
  "metadata": {
    "colab": {
      "private_outputs": true,
      "provenance": [],
      "authorship_tag": "ABX9TyNCwQHJKHAoKw0GpoHwFjJg",
      "include_colab_link": true
    },
    "kernelspec": {
      "name": "python3",
      "display_name": "Python 3"
    },
    "language_info": {
      "name": "python"
    },
    "accelerator": "GPU",
    "gpuClass": "standard"
  },
  "cells": [
    {
      "cell_type": "markdown",
      "metadata": {
        "id": "view-in-github",
        "colab_type": "text"
      },
      "source": [
        "<a href=\"https://colab.research.google.com/github/juanalonso/mazapan/blob/main/mazapan_demo.ipynb\" target=\"_parent\"><img src=\"https://colab.research.google.com/assets/colab-badge.svg\" alt=\"Open In Colab\"/></a>"
      ]
    },
    {
      "cell_type": "code",
      "execution_count": null,
      "metadata": {
        "id": "9rAiRoaLmKLk"
      },
      "outputs": [],
      "source": [
        "!pip install diffusers==0.10.2 transformers accelerate #scipy ftfy "
      ]
    },
    {
      "cell_type": "code",
      "source": [
        "import torch\n",
        "from diffusers import StableDiffusionPipeline, EulerDiscreteScheduler"
      ],
      "metadata": {
        "id": "o2i4-iZ2mbgI"
      },
      "execution_count": null,
      "outputs": []
    },
    {
      "cell_type": "code",
      "source": [
        "# pipe = StableDiffusionPipeline.from_pretrained(\"kokuma/mazapan\", torch_dtype=torch.float16)\n",
        "# scheduler = LMSDiscreteScheduler(beta_start=0.00085, beta_end=0.012, beta_schedule=\"scaled_linear\", num_train_timesteps=1000)\n",
        "\n",
        "euler_scheduler = EulerDiscreteScheduler.from_config(\"kokuma/mazapan\", subfolder=\"scheduler\")\n",
        "\n",
        "pipeline = StableDiffusionPipeline.from_pretrained(\"kokuma/mazapan\", scheduler=euler_scheduler)\n",
        "pipeline = pipeline.to(\"cuda\")"
      ],
      "metadata": {
        "id": "YBv5AuDxmp46"
      },
      "execution_count": null,
      "outputs": []
    },
    {
      "cell_type": "code",
      "source": [
        "prompt = \"a cute bunny, mazapan\"\n",
        "\n",
        "generator = torch.Generator(\"cuda\").manual_seed(1024)\n",
        "\n",
        "image = pipeline(prompt, guidance_scale=7.5, num_inference_steps=15, generator=generator).images[0]\n",
        "image"
      ],
      "metadata": {
        "id": "q7F4osutms3-"
      },
      "execution_count": null,
      "outputs": []
    },
    {
      "cell_type": "code",
      "source": [],
      "metadata": {
        "id": "I9vy6bHyq6aU"
      },
      "execution_count": null,
      "outputs": []
    }
  ]
}