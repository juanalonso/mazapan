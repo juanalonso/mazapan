{
  "nbformat": 4,
  "nbformat_minor": 0,
  "metadata": {
    "colab": {
      "private_outputs": true,
      "provenance": [],
      "machine_shape": "hm",
      "authorship_tag": "ABX9TyMrjOdH6LykvpQpqoIhtViG"
    },
    "kernelspec": {
      "name": "python3",
      "display_name": "Python 3"
    },
    "language_info": {
      "name": "python"
    },
    "accelerator": "GPU",
    "gpuClass": "standard"
  },
  "cells": [
    {
      "cell_type": "code",
      "execution_count": null,
      "metadata": {
        "id": "9rAiRoaLmKLk"
      },
      "outputs": [],
      "source": [
        "!pip install diffusers==0.10.2 transformers accelerate #scipy ftfy "
      ]
    },
    {
      "cell_type": "code",
      "source": [
        "import torch\n",
        "from diffusers import StableDiffusionPipeline, EulerDiscreteScheduler\n",
        "\n",
        "device = torch.device('cuda' if torch.cuda.is_available() else 'cpu')"
      ],
      "metadata": {
        "id": "o2i4-iZ2mbgI"
      },
      "execution_count": null,
      "outputs": []
    },
    {
      "cell_type": "code",
      "source": [
        "euler_scheduler = EulerDiscreteScheduler.from_config(\"kokuma/mazapan\", subfolder=\"scheduler\")\n",
        "\n",
        "pipeline = StableDiffusionPipeline.from_pretrained(\"kokuma/mazapan\", scheduler=euler_scheduler)\n",
        "pipeline = pipeline.to(device)"
      ],
      "metadata": {
        "id": "YBv5AuDxmp46"
      },
      "execution_count": null,
      "outputs": []
    },
    {
      "cell_type": "code",
      "source": [
        "prompt = \"a cute bear, mazapan\"\n",
        "\n",
        "generator = torch.Generator(device).manual_seed(2048)\n",
        "\n",
        "image = pipeline(prompt, guidance_scale=7.5, num_inference_steps=20, generator=generator).images[0]\n",
        "image"
      ],
      "metadata": {
        "id": "q7F4osutms3-"
      },
      "execution_count": null,
      "outputs": []
    },
    {
      "cell_type": "code",
      "source": [],
      "metadata": {
        "id": "I9vy6bHyq6aU"
      },
      "execution_count": null,
      "outputs": []
    }
  ]
}